{
 "cells": [
  {
   "cell_type": "code",
   "execution_count": 11,
   "id": "54890d53",
   "metadata": {},
   "outputs": [
    {
     "name": "stdout",
     "output_type": "stream",
     "text": [
      "Enter the amount of oranges you want to buy10\n",
      "Thank you for purchasing our orange\n",
      "The price for one orange is N 200\n",
      "Therefore the price will be N 2000\n"
     ]
    }
   ],
   "source": [
    "#Creating the parent class\n",
    "class Oranges:\n",
    "    def __init__(self,number):\n",
    "        self.n = number\n",
    "#Derived Class 1\n",
    "class Quantity_of_oranges(Oranges):\n",
    "    def Number(self):\n",
    "        stockquantity = 50 \n",
    "        if self.n > 50:\n",
    "            print(\"Please reduce your amount\")\n",
    "        elif self.n <= 50:\n",
    "            print(\"Thank you for purchasing our orange\")\n",
    "        \n",
    "class cost(Oranges):\n",
    "    def display_price(self):\n",
    "        cost =200\n",
    "        price =self.n*cost\n",
    "        print(\"The price for one orange is N\",cost)\n",
    "        print(\"Therefore the price will be N\",price)\n",
    "        \n",
    "number = int(input(\"Enter the amount of oranges you want to buy\"))\n",
    "number_obj = Oranges(number)\n",
    "obj = Quantity_of_oranges(number)\n",
    "obj.Number()\n",
    "obj2 = cost(number)\n",
    "obj2.display_price()\n"
   ]
  },
  {
   "cell_type": "code",
   "execution_count": 40,
   "id": "57c0badf",
   "metadata": {},
   "outputs": [
    {
     "name": "stdout",
     "output_type": "stream",
     "text": [
      "General Equation\n",
      "1.) Area Of a Trapezium\n",
      "2.) Area of a Rhombus\n",
      "3.) Area Of a Parallelogram\n",
      "4.) Area Of Cube\n",
      "5.) Volume of a Cylinder\n",
      "Enter a value from 1 - 5 4\n",
      "The Area of a Cube\n",
      "Enter your length4\n",
      "96.0\n"
     ]
    }
   ],
   "source": [
    "#Project 2 \n",
    "#Calculator\n",
    "import math\n",
    "\n",
    "class calculator:\n",
    "  \n",
    "    def display_menu(self):\n",
    "        \n",
    "        print(\"General Equation\")\n",
    "        print(\"1.) Area Of a Trapezium\")\n",
    "        print(\"2.) Area of a Rhombus\")\n",
    "        print(\"3.) Area Of a Parallelogram\")\n",
    "        print(\"4.) Area Of Cube\")\n",
    "        print(\"5.) Volume of a Cylinder\")\n",
    "        \n",
    "    def Input(self):\n",
    "        \n",
    "        Input = float(input(\"Enter a value from 1 - 5 \"))\n",
    "    \n",
    "        if Input == 1:\n",
    "            \n",
    "            print(\"Area of a Trapezium\")\n",
    "            \n",
    "            height = float(input(\"Enter your height\"))\n",
    "            \n",
    "            Base1 = float(input(\"Enter your first baase \"))\n",
    "            \n",
    "            Base2 = float(input(\"Enter your second base \"))\n",
    "            \n",
    "            area = height / 2 * (Base1 + Base2)\n",
    "            \n",
    "            print(\"The Area of this Trapezium is: \",area)\n",
    "        \n",
    "        elif Input == 2:\n",
    "            \n",
    "            print(\"The Area of A Rhombus\")\n",
    "            \n",
    "            diagonal1 = float(input(\"Enter your first diagonal: \"))\n",
    "            \n",
    "            diagonal2 = float(input(\"Enter your second diagonal: \"))\n",
    "            \n",
    "            area2 = diagonal1 * diagonal2 * 0.5\n",
    "            \n",
    "            print(\"The Area for this Rhombus is:  \",area2)    \n",
    "        \n",
    "        elif Input == 3:\n",
    "            print(\"The Area of Parallelogram\")\n",
    "            \n",
    "            base = float(input(\"Enter the value for your base \"))\n",
    "            \n",
    "            altitude = float(input(\"Enter the value for your altitude \"))\n",
    "            \n",
    "            area = base * altitude\n",
    "            \n",
    "            print(\"The Area of this PArallelogram is : \",area)\n",
    "            \n",
    "        elif Input == 4:\n",
    "            print(\"The Area of a Cube\")\n",
    "            \n",
    "            length = float(input(\"Enter your length \"))\n",
    "            \n",
    "            area = 6 * (length ** 2)\n",
    "            \n",
    "            print(area)\n",
    "            \n",
    "        elif Input == 5:\n",
    "            \n",
    "            print(\"The Volume of a Cylinder\")\n",
    "            \n",
    "            radius = float(input(\"Enter the value for your radius: \"))\n",
    "            \n",
    "            height = float(input(\"Enter your height: \"))\n",
    "            \n",
    "            area = math.pi * (radius**2) * height\n",
    "            \n",
    "            print(area)\n",
    "            \n",
    "        else:\n",
    "            print(\"Invalid Input\")\n",
    "\n",
    "obj = calculator()\n",
    "obj.display_menu()\n",
    "obj.Input()\n",
    "\n",
    "        "
   ]
  },
  {
   "cell_type": "code",
   "execution_count": 24,
   "id": "2b491a07",
   "metadata": {},
   "outputs": [
    {
     "name": "stdout",
     "output_type": "stream",
     "text": [
      "File has been created\n"
     ]
    }
   ],
   "source": [
    "#Project 3\n",
    "import pandas as pd\n",
    "\n",
    "class NigerianBreweriesPLC:\n",
    "    def display_csv(self):\n",
    "        project = {'Lager':[\"33 Export\", \"Desperados\", \"Goldberg\", \"Gulder\", \"Heinken\", \"Star\"],\n",
    "        'Stout': [\"Legend\", \"Turbo King\", \"Williams\", \" \",\" \",\" \"],\n",
    "        'Non-Alcoholic':[\"Maltina\", \"Amstel Malta\", \"Malts Gold\", \"Fayrouz\",\" \",\" \"]}\n",
    "    \n",
    "        df= pd.DataFrame(project)\n",
    "    \n",
    "        df.to_csv(\"Nigerian Breweries Plc.csv\")\n",
    "        \n",
    "        print(\"File has been created\")\n",
    "        \n",
    "pand = NigerianBreweriesPLC()\n",
    "pand.display_csv()\n",
    "\n"
   ]
  }
 ],
 "metadata": {
  "kernelspec": {
   "display_name": "Python 3 (ipykernel)",
   "language": "python",
   "name": "python3"
  },
  "language_info": {
   "codemirror_mode": {
    "name": "ipython",
    "version": 3
   },
   "file_extension": ".py",
   "mimetype": "text/x-python",
   "name": "python",
   "nbconvert_exporter": "python",
   "pygments_lexer": "ipython3",
   "version": "3.10.9"
  }
 },
 "nbformat": 4,
 "nbformat_minor": 5
}
