{
 "cells": [
  {
   "cell_type": "code",
   "execution_count": 1,
   "id": "c0f92d51",
   "metadata": {},
   "outputs": [
    {
     "name": "stdout",
     "output_type": "stream",
     "text": [
      "100\n",
      "Data Type variable num is <class 'int'>\n",
      "34.5\n",
      "Data Type variable num is <class 'float'>\n",
      "(3+4j)\n",
      "Data Type variable num is <class 'complex'>\n"
     ]
    }
   ],
   "source": [
    "# Integer number\n",
    "num = 100\n",
    "print(num)\n",
    "print(\"Data Type variable num is\", type(num))\n",
    "\n",
    "#float number\n",
    "fnum = 34.5\n",
    "print(fnum)\n",
    "print(\"Data Type variable num is\", type(fnum))\n",
    "\n",
    "#complex number\n",
    "cnum = 3 + 4j\n",
    "print(cnum)\n",
    "print(\"Data Type variable num is\", type(cnum))"
   ]
  },
  {
   "cell_type": "code",
   "execution_count": 2,
   "id": "0dabf270",
   "metadata": {},
   "outputs": [
    {
     "name": "stdout",
     "output_type": "stream",
     "text": [
      "Hi my namae is Matthew. I am String\n",
      "<class 'str'>\n",
      "Hi my name is Precious. I am also a String\n",
      "<class 'str'>\n"
     ]
    }
   ],
   "source": [
    "# Python program to print strings and type \n",
    "str1 = \"Hi my namae is Matthew. I am String\"\n",
    "str2 = 'Hi my name is Precious. I am also a String'\n",
    "\n",
    "# displaying string str1 and its type\n",
    "print(str1)\n",
    "print(type(str1))\n",
    "\n",
    "# displaying string str2 and its type\n",
    "print(str2)\n",
    "print(type(str2))"
   ]
  },
  {
   "cell_type": "code",
   "execution_count": 6,
   "id": "07b4ddbc",
   "metadata": {},
   "outputs": [
    {
     "name": "stdout",
     "output_type": "stream",
     "text": [
      "Enter the principal:3\n",
      "Enter the value for the rate: 4\n",
      "Enter the time in years: 5\n",
      "The simple interest is 3.5999999999999996\n"
     ]
    }
   ],
   "source": [
    "# Project 1(A)\n",
    "# Simple interest\n",
    "\n",
    "P = float(input(\"Enter the principal:\"))\n",
    "R = float(input(\"Enter the value for the rate: \"))\n",
    "T = float(input(\"Enter the time in years: \"))\n",
    "\n",
    "S_i = P * (1 + (R / 100) * T)\n",
    "\n",
    "print(\"The simple interest is\", S_i)"
   ]
  },
  {
   "cell_type": "code",
   "execution_count": 9,
   "id": "0d551bc2",
   "metadata": {},
   "outputs": [
    {
     "name": "stdout",
     "output_type": "stream",
     "text": [
      "Enter the principal:3\n",
      "Enter the value for the rate: 4\n",
      "Enter the time in years: 5\n",
      "Enter the value for n: 4\n",
      "The compound interest is 120.0\n"
     ]
    }
   ],
   "source": [
    "# Project 1(B)\n",
    "# COmpound interest\n",
    "\n",
    "P = float(input(\"Enter the principal:\"))\n",
    "R = float(input(\"Enter the value for the rate: \"))\n",
    "t = float(input(\"Enter the time in years: \"))\n",
    "n = float(input(\"Enter the value for n: \"))\n",
    "\n",
    "c_i = 𝑃 * (1 + (𝑅 / 𝑛)) * (𝑛 * 𝑡)\n",
    "\n",
    "print(\"The compound interest is\", c_i)"
   ]
  },
  {
   "cell_type": "code",
   "execution_count": 12,
   "id": "4c0fcde8",
   "metadata": {},
   "outputs": [
    {
     "name": "stdout",
     "output_type": "stream",
     "text": [
      "Enter the PMT:4\n",
      "Enter the value for the rate: 5\n",
      "Enter the time in years: 6\n",
      "Enter the value for n: 5\n",
      "The Annual Plan is 120.0\n"
     ]
    }
   ],
   "source": [
    "# Project 1(C)\n",
    "# Annual Plan\n",
    "\n",
    "PMT = float(input(\"Enter the PMT:\"))\n",
    "R = float(input(\"Enter the value for the rate: \"))\n",
    "t = float(input(\"Enter the time in years: \"))\n",
    "n = float(input(\"Enter the value for n: \"))\n",
    "\n",
    "AP = PMT * (1 + (𝑅 / 𝑛) * (𝑛 * 𝑡) - 1) / (𝑅 / 𝑛)\n",
    "\n",
    "print(\"The Annual Plan is\", AP)"
   ]
  },
  {
   "cell_type": "code",
   "execution_count": null,
   "id": "64be2041",
   "metadata": {},
   "outputs": [],
   "source": []
  }
 ],
 "metadata": {
  "kernelspec": {
   "display_name": "Python 3 (ipykernel)",
   "language": "python",
   "name": "python3"
  },
  "language_info": {
   "codemirror_mode": {
    "name": "ipython",
    "version": 3
   },
   "file_extension": ".py",
   "mimetype": "text/x-python",
   "name": "python",
   "nbconvert_exporter": "python",
   "pygments_lexer": "ipython3",
   "version": "3.10.9"
  }
 },
 "nbformat": 4,
 "nbformat_minor": 5
}
