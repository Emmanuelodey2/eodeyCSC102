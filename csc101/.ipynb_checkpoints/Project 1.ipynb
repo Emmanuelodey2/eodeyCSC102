{
 "cells": [
  {
   "cell_type": "code",
   "execution_count": null,
   "id": "74638fa9",
   "metadata": {},
   "outputs": [],
   "source": [
    "import csv\n",
    "\n",
    "# Prompt the user for input and collect data\n",
    "PAU_SMIS = []\n",
    "\n",
    "Student_name = input(\"Enter a name: \")\n",
    "Matric_Number = input(\"Enter your Matric Number: \")\n",
    "Department = input(\"Enter your department: \")\n",
    "Level = input(\"Enter your current level: \")\n",
    "data.append([Student_name, Matric_Number, Department,Level])\n",
    "\n",
    "csv_file = \"PAU_SMIS.csv\"\n",
    "\n",
    "with open(csv_file, 'w', newline='') as file:\n",
    "    writer = csv.writer(file)\n",
    "    writer.writerow([\"Name\", \"Student_name\", \"Matric_Number\", \"Department\",\"Level\"])  # Write header\n",
    "    writer.writerows(data)  \n",
    "\n",
    "print(\"Data saved successfully to\", csv_file)\n"
   ]
  },
  {
   "cell_type": "code",
   "execution_count": null,
   "id": "af498d2e",
   "metadata": {},
   "outputs": [],
   "source": []
  },
  {
   "cell_type": "code",
   "execution_count": null,
   "id": "92373574",
   "metadata": {},
   "outputs": [],
   "source": []
  }
 ],
 "metadata": {
  "kernelspec": {
   "display_name": "Python 3 (ipykernel)",
   "language": "python",
   "name": "python3"
  },
  "language_info": {
   "codemirror_mode": {
    "name": "ipython",
    "version": 3
   },
   "file_extension": ".py",
   "mimetype": "text/x-python",
   "name": "python",
   "nbconvert_exporter": "python",
   "pygments_lexer": "ipython3",
   "version": "3.10.9"
  }
 },
 "nbformat": 4,
 "nbformat_minor": 5
}
