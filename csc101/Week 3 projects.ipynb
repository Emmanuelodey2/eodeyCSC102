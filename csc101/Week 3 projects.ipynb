{
 "cells": [
  {
   "cell_type": "code",
   "execution_count": 1,
   "id": "e3074668",
   "metadata": {},
   "outputs": [],
   "source": [
    "# Project 1 (A)"
   ]
  },
  {
   "cell_type": "code",
   "execution_count": null,
   "id": "cd59e2d0",
   "metadata": {},
   "outputs": [],
   "source": [
    "# Project 1 (C)\n",
    "\n",
    "name = input(\"Enter your name \")\n",
    "age = int(input(\"Input your age \"))\n",
    "name_1 = input(\"Enter your name \")\n",
    "age_1 = int(input(\"Input your age \"))\n",
    "\n",
    "print(\"Your name is \",name,\"and you are \",age_1)\n",
    "print(\"Your name is \",name_1,\"and you are \",age)\n",
    "\n"
   ]
  },
  {
   "cell_type": "code",
   "execution_count": null,
   "id": "37ce90ba",
   "metadata": {},
   "outputs": [],
   "source": [
    "# Project 2 (A)\n"
   ]
  },
  {
   "cell_type": "code",
   "execution_count": 10,
   "id": "eeda7b01",
   "metadata": {
    "scrolled": true
   },
   "outputs": [
    {
     "name": "stdout",
     "output_type": "stream",
     "text": [
      "Enter your value for A: 0\n",
      "Enter your value for B: 3\n",
      "Enter your value for C: 5\n",
      "Sorry this isnt a quadratic Equation\n"
     ]
    }
   ],
   "source": [
    "# Project 2 (B)\n",
    "# Ax2 + Bx + c = 0\n",
    "import math\n",
    "\n",
    "\n",
    "a = int(input('Enter your value for A: '))\n",
    "b = int(input('Enter your value for B: '))\n",
    "c = int(input('Enter your value for C: '))\n",
    "\n",
    "x = -b + (math.sqrt((b**2) + (4 * a * c))) / 2 * a\n",
    "x1 = -b - (math.sqrt((b**2) + (4 * a * c))) / 2 * a\n",
    "\n",
    "if a == 0:\n",
    "    print('Sorry this isnt a quadratic Equation')\n",
    "else:\n",
    "    print('The roots to this Equation are ',x,'and ',x1)"
   ]
  },
  {
   "cell_type": "code",
   "execution_count": null,
   "id": "27c3ced8",
   "metadata": {},
   "outputs": [],
   "source": []
  },
  {
   "cell_type": "code",
   "execution_count": null,
   "id": "269ce3a6",
   "metadata": {},
   "outputs": [],
   "source": []
  }
 ],
 "metadata": {
  "kernelspec": {
   "display_name": "Python 3 (ipykernel)",
   "language": "python",
   "name": "python3"
  },
  "language_info": {
   "codemirror_mode": {
    "name": "ipython",
    "version": 3
   },
   "file_extension": ".py",
   "mimetype": "text/x-python",
   "name": "python",
   "nbconvert_exporter": "python",
   "pygments_lexer": "ipython3",
   "version": "3.10.9"
  }
 },
 "nbformat": 4,
 "nbformat_minor": 5
}
